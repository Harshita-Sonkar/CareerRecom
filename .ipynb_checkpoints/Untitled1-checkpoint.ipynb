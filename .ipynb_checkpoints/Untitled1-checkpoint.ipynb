{
 "cells": [
  {
   "cell_type": "code",
   "execution_count": 1,
   "id": "acb95591-dbce-4b20-a719-a92489302c62",
   "metadata": {},
   "outputs": [],
   "source": [
    "import pandas as pd\n",
    "import numpy as np\n",
    "from sklearn.metrics.pairwise import cosine_similarity"
   ]
  },
  {
   "cell_type": "code",
   "execution_count": 13,
   "id": "4ad732d4-bcbc-4a79-9f1b-a7ebcb6eead0",
   "metadata": {},
   "outputs": [],
   "source": [
    "def load_onet_data():\n",
    "    occupations = pd.read_excel('ONET/Occupation Data.xlsx')\n",
    "    skills = pd.read_excel('ONET/Skills.xlsx')\n",
    "    \n",
    "    return occupations, skills"
   ]
  },
  {
   "cell_type": "code",
   "execution_count": 15,
   "id": "d32082d4-28b8-4f95-934e-8a9673339340",
   "metadata": {},
   "outputs": [
    {
     "ename": "NameError",
     "evalue": "name 'career_changers' is not defined",
     "output_type": "error",
     "traceback": [
      "\u001b[1;31m---------------------------------------------------------------------------\u001b[0m",
      "\u001b[1;31mNameError\u001b[0m                                 Traceback (most recent call last)",
      "Cell \u001b[1;32mIn[15], line 1\u001b[0m\n\u001b[1;32m----> 1\u001b[0m load_onet_data()\n\u001b[0;32m      2\u001b[0m occupations\u001b[38;5;241m.\u001b[39mhead()\n",
      "Cell \u001b[1;32mIn[13], line 5\u001b[0m, in \u001b[0;36mload_onet_data\u001b[1;34m()\u001b[0m\n\u001b[0;32m      2\u001b[0m occupations \u001b[38;5;241m=\u001b[39m pd\u001b[38;5;241m.\u001b[39mread_excel(\u001b[38;5;124m'\u001b[39m\u001b[38;5;124mONET/Occupation Data.xlsx\u001b[39m\u001b[38;5;124m'\u001b[39m)\n\u001b[0;32m      3\u001b[0m skills \u001b[38;5;241m=\u001b[39m pd\u001b[38;5;241m.\u001b[39mread_excel(\u001b[38;5;124m'\u001b[39m\u001b[38;5;124mONET/Skills.xlsx\u001b[39m\u001b[38;5;124m'\u001b[39m)\n\u001b[1;32m----> 5\u001b[0m \u001b[38;5;28;01mreturn\u001b[39;00m occupations, skills, career_changers\n",
      "\u001b[1;31mNameError\u001b[0m: name 'career_changers' is not defined"
     ]
    }
   ],
   "source": [
    "load_onet_data()\n",
    "occupations.head()"
   ]
  },
  {
   "cell_type": "code",
   "execution_count": null,
   "id": "ad317a5f-0a64-45c1-acf5-97242fd9685d",
   "metadata": {},
   "outputs": [],
   "source": []
  }
 ],
 "metadata": {
  "kernelspec": {
   "display_name": "Python 3 (ipykernel)",
   "language": "python",
   "name": "python3"
  },
  "language_info": {
   "codemirror_mode": {
    "name": "ipython",
    "version": 3
   },
   "file_extension": ".py",
   "mimetype": "text/x-python",
   "name": "python",
   "nbconvert_exporter": "python",
   "pygments_lexer": "ipython3",
   "version": "3.12.4"
  }
 },
 "nbformat": 4,
 "nbformat_minor": 5
}
